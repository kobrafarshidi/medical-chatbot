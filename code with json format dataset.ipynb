{
 "cells": [
  {
   "cell_type": "code",
   "execution_count": 1,
   "metadata": {},
   "outputs": [
    {
     "name": "stderr",
     "output_type": "stream",
     "text": [
      "C:\\Users\\lenovo\\anaconda3\\envs\\chatbottesy\\lib\\site-packages\\tqdm\\auto.py:21: TqdmWarning: IProgress not found. Please update jupyter and ipywidgets. See https://ipywidgets.readthedocs.io/en/stable/user_install.html\n",
      "  from .autonotebook import tqdm as notebook_tqdm\n"
     ]
    }
   ],
   "source": [
    "import json\n",
    "import torch\n",
    "import torch.optim as optim\n",
    "from torch.utils.tensorboard import SummaryWriter\n",
    "import tkinter as tk\n",
    "from tkinter import messagebox\n",
    "from transformers import GPT2LMHeadModel, GPT2Tokenizer"
   ]
  },
  {
   "cell_type": "code",
   "execution_count": 11,
   "metadata": {
    "id": "MUKXT0usKGq_"
   },
   "outputs": [
    {
     "name": "stderr",
     "output_type": "stream",
     "text": [
      "You are resizing the embedding layer without providing a `pad_to_multiple_of` parameter. This means that the new embedding dimension will be 50257. This might induce some performance reduction as *Tensor Cores* will not be available. For more details about this, or help on choosing the correct value for resizing, refer to this guide: https://docs.nvidia.com/deeplearning/performance/dl-performance-matrix-multiplication/index.html#requirements-tc\n",
      "The attention mask and the pad token id were not set. As a consequence, you may observe unexpected behavior. Please pass your input's `attention_mask` to obtain reliable results.\n",
      "Setting `pad_token_id` to `eos_token_id`:50256 for open-end generation.\n",
      "The attention mask and the pad token id were not set. As a consequence, you may observe unexpected behavior. Please pass your input's `attention_mask` to obtain reliable results.\n",
      "Setting `pad_token_id` to `eos_token_id`:50256 for open-end generation.\n"
     ]
    },
    {
     "name": "stdout",
     "output_type": "stream",
     "text": [
      "Accuracy: 0.007352941176470588\n",
      "Loss: 2.4137604236602783\n"
     ]
    }
   ],
   "source": [
    "\n",
    "\n",
    "# Load the JSON dataset\n",
    "def load_dataset(file_path):\n",
    "    with open(file_path, \"r\") as file:\n",
    "        dataset = json.load(file)\n",
    "    return dataset[\"data\"][\"qas\"]\n",
    "\n",
    "# Prepare the dataset for pretraining\n",
    "def prepare_dataset(dataset):\n",
    "    pretraining_data = \"\"\n",
    "    for qa in dataset:\n",
    "        question = qa[\"question\"]\n",
    "        answer = qa[\"answers\"]\n",
    "        pretraining_data += question + \"\\n\" + answer + \"\\n\"\n",
    "    return pretraining_data\n",
    "\n",
    "# Define the file path for the dataset\n",
    "file_path = \"C:\\\\Users\\\\lenovo\\\\Desktop\\\\dataset.json\"  # Update with the actual file path\n",
    "\n",
    "# Load the dataset\n",
    "dataset = load_dataset(file_path)\n",
    "pretraining_data = prepare_dataset(dataset)\n",
    "\n",
    "# Load the pre-trained model and tokenizer\n",
    "model_name = 'gpt2'  # Change the model name as needed\n",
    "model = GPT2LMHeadModel.from_pretrained(model_name)\n",
    "tokenizer = GPT2Tokenizer.from_pretrained(model_name)\n",
    "\n",
    "# Set the model to training mode\n",
    "model.train()\n",
    "\n",
    "# Tokenize the pretraining data\n",
    "input_ids = tokenizer.encode(pretraining_data, return_tensors='pt')\n",
    "\n",
    "# Fine-tune the model on the pretraining data\n",
    "model.resize_token_embeddings(len(tokenizer))\n",
    "optimizer = optim.AdamW(model.parameters(), lr=1e-5)\n",
    "\n",
    "# Train the model\n",
    "num_epochs = 5\n",
    "for epoch in range(num_epochs):\n",
    "    outputs = model(input_ids, labels=input_ids)\n",
    "    loss = outputs.loss\n",
    "    loss.backward()\n",
    "    optimizer.step()\n",
    "    optimizer.zero_grad()\n",
    "\n",
    "# Set the model back to evaluation mode\n",
    "model.eval()\n",
    "\n",
    "# Define a function to generate a response using the local GPT-2 model\n",
    "def generate_response(user_input):\n",
    "    input_ids = tokenizer.encode(user_input, return_tensors='pt')\n",
    "    with torch.no_grad():\n",
    "        output = model.generate(input_ids, max_length=50, num_return_sequences=1)\n",
    "    response = tokenizer.decode(output[0], skip_special_tokens=True)\n",
    "    return response\n",
    "\n",
    "# Create a GUI window\n",
    "window = tk.Tk()\n",
    "window.title(\"Medical Chatbot\")\n",
    "\n",
    "# Create a text box for user input\n",
    "first_name_label = tk.Label(window, text=\"Ask your question and submit or if you do not have any question, write 'bye'\")\n",
    "first_name_label.pack()\n",
    "\n",
    "user_input_text = tk.Text(window, height=10, width=70)\n",
    "user_input_text.pack()\n",
    "\n",
    "# Create a text box for chatbot responses\n",
    "chatbot_response_text = tk.Text(window, height=10, width=70)\n",
    "chatbot_response_text.pack()\n",
    "\n",
    "# Define a function to get user input and generate chatbot response\n",
    "def get_user_input():\n",
    "    user_input = user_input_text.get(\"1.0\", tk.END).strip()\n",
    "    user_input_text.delete(\"1.0\", tk.END)\n",
    "\n",
    "    if user_input.lower() == \"bye\":\n",
    "        messagebox.showinfo(\"Chatbot\", \"Goodbye! Take care.\")\n",
    "        window.destroy()\n",
    "        return\n",
    "\n",
    "    response = generate_response(user_input)\n",
    "    chatbot_response_text.insert(tk.END,\"Chatbot: \" + response + \"\\n\")\n",
    "\n",
    "# Create a button to submit user input\n",
    "submit_button = tk.Button(window, text=\"Submit\", command=get_user_input)\n",
    "submit_button.pack()\n",
    "\n",
    "# Run the GUI main loop\n",
    "window.mainloop()\n",
    "\n",
    "# Calculate and show accuracy and loss\n",
    "with torch.no_grad():\n",
    "    outputs = model(input_ids, labels=input_ids)\n",
    "    loss = outputs.loss.item()\n",
    "    accuracy = torch.eq(outputs.logits.argmax(dim=-1), input_ids).sum().item() / input_ids.numel()\n",
    "    print(\"Accuracy:\", accuracy)\n",
    "    print(\"Loss:\", loss)\n",
    "\n",
    "# Run in TensorBoard\n",
    "writer = SummaryWriter()\n",
    "writer.add_scalar(\"Accuracy\", accuracy)\n",
    "writer.add_scalar(\"Loss\", loss)\n",
    "writer.close()"
   ]
  },
  {
   "cell_type": "code",
   "execution_count": null,
   "metadata": {},
   "outputs": [],
   "source": []
  },
  {
   "cell_type": "code",
   "execution_count": null,
   "metadata": {},
   "outputs": [],
   "source": []
  }
 ],
 "metadata": {
  "colab": {
   "provenance": []
  },
  "kernelspec": {
   "display_name": "Python 3 (ipykernel)",
   "language": "python",
   "name": "python3"
  },
  "language_info": {
   "codemirror_mode": {
    "name": "ipython",
    "version": 3
   },
   "file_extension": ".py",
   "mimetype": "text/x-python",
   "name": "python",
   "nbconvert_exporter": "python",
   "pygments_lexer": "ipython3",
   "version": "3.10.13"
  }
 },
 "nbformat": 4,
 "nbformat_minor": 1
}
